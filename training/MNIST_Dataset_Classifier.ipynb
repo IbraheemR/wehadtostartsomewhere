{
  "nbformat": 4,
  "nbformat_minor": 0,
  "metadata": {
    "colab": {
      "name": "MNIST Dataset Classifier",
      "provenance": [],
      "collapsed_sections": []
    },
    "kernelspec": {
      "display_name": "Python 3",
      "name": "python3"
    },
    "language_info": {
      "name": "python"
    }
  },
  "cells": [
    {
      "cell_type": "code",
      "metadata": {
        "id": "hXBREOQGHUMy"
      },
      "source": [
        "!pip install tensorflowjs"
      ],
      "execution_count": null,
      "outputs": []
    },
    {
      "cell_type": "code",
      "metadata": {
        "id": "G7Nvs82rX83s"
      },
      "source": [
        "#importing libraries, etc\n",
        "import tensorflow as tf\n",
        "import tensorflowjs as tfjs\n",
        "import sys\n",
        "import numpy as np\n",
        "import matplotlib.pyplot as plt\n",
        "from keras.datasets import mnist\n",
        "import matplotlib.cm as cm\n",
        "from skimage.io import imread\n",
        "from google.colab import files"
      ],
      "execution_count": null,
      "outputs": []
    },
    {
      "cell_type": "code",
      "metadata": {
        "id": "x--gv7cvZ3ZT"
      },
      "source": [
        "#loading and splitting the data\n",
        "(train_images, train_labels), (test_images, test_labels) = mnist.load_data()"
      ],
      "execution_count": null,
      "outputs": []
    },
    {
      "cell_type": "code",
      "metadata": {
        "id": "aLyL7beiaK6j"
      },
      "source": [
        "class_names = ['0', '1', '2', '3', '4', '5', '6', '7', '8', '9' ]"
      ],
      "execution_count": null,
      "outputs": []
    },
    {
      "cell_type": "code",
      "metadata": {
        "id": "pB5LfeCdbx14"
      },
      "source": [
        "#Exploring the data\n",
        "print(train_images.shape)\n",
        "print(len(train_labels))\n",
        "print(train_labels)\n",
        "print(test_images.shape)\n",
        "print(len(test_labels))\n",
        "print(test_labels)\n"
      ],
      "execution_count": null,
      "outputs": []
    },
    {
      "cell_type": "code",
      "metadata": {
        "id": "efe7XCPjcdIN"
      },
      "source": [
        "#Preprocessing the data\n",
        "#Inspecting the first image in the training set\n",
        "plt.imshow(train_images[0], cmap='gray')\n",
        "plt.colorbar()\n",
        "plt.show()"
      ],
      "execution_count": null,
      "outputs": []
    },
    {
      "cell_type": "code",
      "metadata": {
        "id": "u-Kj0nEpeLTT"
      },
      "source": [
        "#Scaling the data to fit model\n",
        "train_images = train_images / 255.0\n",
        "test_images = test_images / 255.0"
      ],
      "execution_count": null,
      "outputs": []
    },
    {
      "cell_type": "code",
      "metadata": {
        "id": "Slv85RebebR_"
      },
      "source": [
        "#Verifying and checking data is in correct format\n",
        "#Displaying first 5 images from the training set\n",
        "plt.figure(figsize=(10,10))\n",
        "for i in range(5):\n",
        "  plt.subplot(5,5,i+1)\n",
        "  plt.xticks([])\n",
        "  plt.yticks([])\n",
        "  plt.grid(False)\n",
        "  plt.imshow(train_images[i], cmap='gray')\n",
        "  plt.xlabel(class_names[train_labels[i]])\n",
        "plt.show()\n"
      ],
      "execution_count": null,
      "outputs": []
    },
    {
      "cell_type": "code",
      "metadata": {
        "id": "xLRo21CSgh53"
      },
      "source": [
        "#Building the model\n",
        "model = tf.keras.Sequential([\n",
        "      tf.keras.layers.Flatten(input_shape=(28, 28)), \n",
        "      tf.keras.layers.Dense(128, activation='relu'), \n",
        "      tf.keras.layers.Dense(10)])"
      ],
      "execution_count": null,
      "outputs": []
    },
    {
      "cell_type": "code",
      "metadata": {
        "id": "BzRiGJ5i57Oy"
      },
      "source": [
        "#Compling the model\n",
        "model.compile(optimizer='adam',\n",
        "              loss=tf.keras.losses.SparseCategoricalCrossentropy(from_logits=True),\n",
        "              metrics=['accuracy'])"
      ],
      "execution_count": null,
      "outputs": []
    },
    {
      "cell_type": "code",
      "metadata": {
        "id": "hqBxFZWf6VAj"
      },
      "source": [
        "#Training the model\n",
        "model.fit(train_images, train_labels, epochs=10)"
      ],
      "execution_count": null,
      "outputs": []
    },
    {
      "cell_type": "code",
      "metadata": {
        "id": "90ThDIBc63ix"
      },
      "source": [
        "#Evaluating the model's performance on the test data \n",
        "test_loss, test_acc = model.evaluate(test_images, test_labels, verbose=2)\n",
        "\n",
        "print('\\nTest accuracy:', test_acc)"
      ],
      "execution_count": null,
      "outputs": []
    },
    {
      "cell_type": "code",
      "metadata": {
        "id": "dDEmSuIkPj_X"
      },
      "source": [
        "#Showing the image\n",
        "img = imread('test gimp image7.jpg', as_gray=True)\n",
        "plt.imshow(img, cmap = cm.gray)\n",
        "plt.show()"
      ],
      "execution_count": null,
      "outputs": []
    },
    {
      "cell_type": "code",
      "metadata": {
        "id": "uxFqEu19F4Ob"
      },
      "source": [
        "img =(np.expand_dims(img,0))"
      ],
      "execution_count": null,
      "outputs": []
    },
    {
      "cell_type": "code",
      "metadata": {
        "id": "dCUXRz5LsPg_"
      },
      "source": [
        "#Adding the image to a batch where it's the only the member\n",
        "img = img/255\n",
        "img = 1-img\n",
        "print(img)"
      ],
      "execution_count": null,
      "outputs": []
    },
    {
      "cell_type": "code",
      "metadata": {
        "id": "7ma8Ue6qssf4"
      },
      "source": [
        "#Predicting the correct label for this image\n",
        "predictions_single = model.predict(img)\n",
        "print(predictions_single)"
      ],
      "execution_count": null,
      "outputs": []
    },
    {
      "cell_type": "code",
      "metadata": {
        "id": "8fVGAk95y_ZZ"
      },
      "source": [
        "#Displaying the predicted label\n",
        "np.argmax(predictions_single[0])"
      ],
      "execution_count": null,
      "outputs": []
    },
    {
      "cell_type": "code",
      "metadata": {
        "id": "xnTkBJH1cSqH"
      },
      "source": [
        "#Saving model\n",
        "tfjs.converters.save_keras_model(model, 'model')\n",
        "\n"
      ],
      "execution_count": null,
      "outputs": []
    }
  ]
}